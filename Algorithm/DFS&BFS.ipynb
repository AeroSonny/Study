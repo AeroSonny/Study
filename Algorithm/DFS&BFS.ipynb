{
 "cells": [
  {
   "cell_type": "code",
   "execution_count": 131,
   "id": "7bc08f6a",
   "metadata": {},
   "outputs": [],
   "source": [
    "## Make Sample data\n",
    "graph = {\n",
    "    'A': ['B', 'C'],\n",
    "    'B': ['A', 'D', 'E'],\n",
    "    'C': ['A', 'F'],\n",
    "    'D': ['B'],\n",
    "    'E': ['B', 'F'],\n",
    "    'F': ['C', 'E']\n",
    "}"
   ]
  },
  {
   "cell_type": "markdown",
   "id": "2bb4b3e3",
   "metadata": {},
   "source": [
    "## DFS(Depth First Search)"
   ]
  },
  {
   "cell_type": "code",
   "execution_count": 167,
   "id": "94c62ff2",
   "metadata": {},
   "outputs": [],
   "source": [
    "# DFS 구현 (재귀 사용) \n",
    "visit = [] # 방문한 노드를 저장할 집합\n",
    "def dfs1(visit, graph, node):  # 함수에는 방문한 노드 집합, 그래프, 현재 노드가 전달됩니다.\n",
    "    if node not in visit:\n",
    "        visit.append(node) \n",
    "        for neighbor in graph[node]:  # 현재 노드의 모든 이웃에 대해\n",
    "            dfs1(visit, graph, neighbor)  # 재귀적으로 dfs 실행\n",
    "    return visit "
   ]
  },
  {
   "cell_type": "code",
   "execution_count": 168,
   "id": "31844f4b",
   "metadata": {},
   "outputs": [],
   "source": [
    "## DFS 구현 (Stack 사용)\n",
    "def dfs2(graph, start): \n",
    "    stack = [start]  # 스택 초기화 및 시작 노드 추가\n",
    "    visit = []  # 방문한 노드를 저장할 집합\n",
    "    while stack:  # 스택이 비어있지 않는 동안\n",
    "        node = stack.pop()  # 현재 노드를 스택에서 제거\n",
    "        if node not in visit:\n",
    "            visit.append(node) # 현재 노드를 방문한 집합에 추가1\n",
    "            # 현재 노드에 인접한 노드 중 방문하지 않은 노드들을 스택에 추가\n",
    "            # 스택은 LIFO 구조이므로 마지막에 추가된 노드부터 다음 번에 탐색\n",
    "            # 인접 노드를 거꾸로 추가하여 탐색 순서를 유지\n",
    "            stack.extend([x for x in graph[node] if x not in visit][::-1])\n",
    "    return visit"
   ]
  },
  {
   "cell_type": "code",
   "execution_count": 169,
   "id": "119742eb",
   "metadata": {
    "scrolled": true
   },
   "outputs": [],
   "source": [
    "# 'A'에서 시작하는 DFS 실행\n",
    "dfs1_res = dfs1(visit, graph, 'A')\n",
    "dfs2_res = dfs2(graph, 'A')"
   ]
  },
  {
   "cell_type": "code",
   "execution_count": 170,
   "id": "d7e47045",
   "metadata": {},
   "outputs": [
    {
     "data": {
      "text/plain": [
       "['A', 'B', 'D', 'E', 'F', 'C']"
      ]
     },
     "execution_count": 170,
     "metadata": {},
     "output_type": "execute_result"
    }
   ],
   "source": [
    "dfs1_res"
   ]
  },
  {
   "cell_type": "code",
   "execution_count": 171,
   "id": "39e1bb2c",
   "metadata": {},
   "outputs": [
    {
     "data": {
      "text/plain": [
       "['A', 'B', 'D', 'E', 'F', 'C']"
      ]
     },
     "execution_count": 171,
     "metadata": {},
     "output_type": "execute_result"
    }
   ],
   "source": [
    "dfs2_res"
   ]
  },
  {
   "cell_type": "markdown",
   "id": "39a03d8b",
   "metadata": {},
   "source": [
    "## BFS(Breadth First Search)"
   ]
  },
  {
   "cell_type": "code",
   "execution_count": 183,
   "id": "b6ab29d1",
   "metadata": {},
   "outputs": [],
   "source": [
    "## collections.deque 사용\n",
    "from collections import deque\n",
    "\n",
    "def bfs1(graph, start):\n",
    "    visited = []  # 방문한 노드들을 저장할 리스트\n",
    "    queue = deque([start])  # deque를 사용한 큐 초기화 및 시작 노드 추가\n",
    "    \n",
    "    while queue:  # 큐가 비어있지 않는 동안\n",
    "        node = queue.popleft()  # 큐에서 노드를 하나 꺼냄\n",
    "        if node not in visited:\n",
    "            visited.append(node)  # 방문한 노드에 추가\n",
    "            # 현재 노드의 모든 인접 노드를 큐에 추가\n",
    "            # 이미 방문한 노드는 추가하지 않음\n",
    "            for neighbor in graph[node]:\n",
    "                if neighbor not in visited:\n",
    "                    queue.append(neighbor)\n",
    "    \n",
    "    return visited  # 방문한 노드 리스트 반환"
   ]
  },
  {
   "cell_type": "code",
   "execution_count": 184,
   "id": "cd5501dc",
   "metadata": {},
   "outputs": [],
   "source": [
    "\n",
    "def bfs2(graph, start):\n",
    "    visited = []  # 방문한 노드들을 저장할 리스트\n",
    "    queue = [start]  # 시작 노드를 포함하는 초기 큐\n",
    "    \n",
    "    while queue:  # 큐가 비어있지 않는 동안\n",
    "        node = queue.pop(0)  # 큐의 첫 번째 요소를 제거하여 반환\n",
    "        if node not in visited:\n",
    "            visited.append(node)  # 방문한 노드에 추가\n",
    "            # 현재 노드의 모든 인접 노드를 큐에 추가\n",
    "            # 이미 방문한 노드는 추가하지 않음\n",
    "            for neighbor in graph[node]:\n",
    "                if neighbor not in visited:\n",
    "                    queue.append(neighbor)\n",
    "    \n",
    "    return visited  # 방문한 노드 리스트 반환"
   ]
  },
  {
   "cell_type": "code",
   "execution_count": 185,
   "id": "4f810f3f",
   "metadata": {},
   "outputs": [
    {
     "name": "stdout",
     "output_type": "stream",
     "text": [
      "A B C D E F A B C D E F "
     ]
    }
   ],
   "source": [
    "# 'A'에서 시작하는 BFS 실행\n",
    "bfs_res1 = bfs1(graph, 'A')\n",
    "bfs_res2 = bfs2(graph, 'A')"
   ]
  },
  {
   "cell_type": "code",
   "execution_count": 186,
   "id": "b3353177",
   "metadata": {},
   "outputs": [
    {
     "name": "stdout",
     "output_type": "stream",
     "text": [
      "['A', 'B', 'C', 'D', 'E', 'F']\n"
     ]
    }
   ],
   "source": [
    "print(bfs_res1)"
   ]
  },
  {
   "cell_type": "code",
   "execution_count": 187,
   "id": "8336f1e8",
   "metadata": {},
   "outputs": [
    {
     "name": "stdout",
     "output_type": "stream",
     "text": [
      "['A', 'B', 'C', 'D', 'E', 'F']\n"
     ]
    }
   ],
   "source": [
    "print(bfs_res2)"
   ]
  },
  {
   "cell_type": "code",
   "execution_count": null,
   "id": "23bad8bb",
   "metadata": {},
   "outputs": [],
   "source": []
  }
 ],
 "metadata": {
  "kernelspec": {
   "display_name": "Python 3 (ipykernel)",
   "language": "python",
   "name": "python3"
  },
  "language_info": {
   "codemirror_mode": {
    "name": "ipython",
    "version": 3
   },
   "file_extension": ".py",
   "mimetype": "text/x-python",
   "name": "python",
   "nbconvert_exporter": "python",
   "pygments_lexer": "ipython3",
   "version": "3.8.17"
  }
 },
 "nbformat": 4,
 "nbformat_minor": 5
}
